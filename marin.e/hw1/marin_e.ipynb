{
 "cells": [
  {
   "cell_type": "code",
   "execution_count": 1,
   "id": "prepared-surprise",
   "metadata": {},
   "outputs": [
    {
     "name": "stdout",
     "output_type": "stream",
     "text": [
      "# Домашняя работа 1 (4 балла)\r\n",
      "## Дедлайн\r\n",
      "Работы принимаются до **06.11 12:00**.\r\n",
      "\r\n",
      "## Требования\r\n",
      "Работа должна быть выполнена на языке Python (версия не менее 3.7). Код должен быть написан аккуратно и читаемо, названия переменных должны отражать свою суть. Так же следует оставлять пояснения к своим подходам к решению.\r\n",
      "\r\n",
      "Результат работы - ноутбук с вызываемым рабочим кодом и комментариями-пояснениями. Весь код должен быть закоммичен и создан Pull Request. На сайте курса, в разделе домашнии работы, **нужно отписаться**, что Ваш PR готов к проверке и прислать ссылку на PR. \r\n",
      "\r\n",
      "Примерный шаблон ноутбука приложен в папке task_1_recsys.\r\n",
      "\r\n",
      "## Отправка ДЗ\r\n",
      "Репозиторий: https://github.com/sergeyivanovgit/Recsys-course-homework\r\n",
      "\r\n",
      "Правила создания директорий: \r\n",
      "- Создайте папку в формате фамилия.первая_буква_имени (например, ivanov.s). В ней создайте папку hw1.\r\n",
      "- В папке hw1 должен быть результирующий нотбук, названный фамилия_первая_буква_имени.ipynb (например, ivanov_s.ipynb), и необходимые скрипты для решения.\r\n",
      "- **Коммитить исходные данные не нужно!**\r\n",
      "\r\n",
      "Пожалуйста, отнеситесь внимательно к отправке домашнего задания!\r\n",
      "\r\n",
      "## Задание\r\n",
      "- Проанализируйте данные и подберите/сконструируйте осмысленные фичи. \r\n",
      "- Постройте модель, которая предсказывает вероятность клика.\r\n",
      "- Подберите для построенной модели регуляризацию, сделав при этом валидацию по времени. В качестве метрики считайте **log-loss**.\r\n",
      "- Свою итоговую модель примените к последнему дню датасета и вычислите log-loss. Это будет неким ответом к домашней работе.\r\n",
      "- **В работе нельзя использовать SGD-like алгоритмы!**\r\n",
      "\r\n",
      "Данные лежат здесь: https://drive.google.com/drive/folders/1sxIGN-GUsJJcDF9WSg3Kzrgmzu1gp4PO\r\n",
      "\r\n",
      "### Данные\r\n",
      "Данные - это реальный лог реальных рекламных событий ad network Propeller Ads.\r\n",
      "\r\n",
      "Датасет состоит из показов рекламы. \r\n",
      "\r\n",
      "- date_time - время показа рекламы\r\n",
      "- zone_id - id зоны, где зона - место на сайте для размещения рекламы\r\n",
      "- banner_id - id баннера\r\n",
      "- campaign_clicks - общее количество показов данной кампании (которой соотвествует баннер) данному юзеру, произошедшие до текущего показа\r\n",
      "- os_id - id операционной системы\r\n",
      "- country_id - id страны\r\n",
      "- oaid_hash - хэш юзера\r\n",
      "- banner_id0 - нулевой баннер в “стакане” баннеров\r\n",
      "- banner_id1 - перый баннер в “стакане” баннеров\r\n",
      "- rate0 - стоимость 1 клика установленная рекламодателем для banner_id0\r\n",
      "- rate1 - стоимость 1 клика установленная рекламодателем для banner_id1\r\n",
      "- g0 - стандартное отклонение предикта с banner_id0\r\n",
      "- g1 - стандартное отклонение предикта с banner_id1\r\n",
      "- coeff_sum0 - сумма коэффициентов для banner_id0\r\n",
      "- coeff_sum1 - сумма коэффициентов для banner_id1\r\n",
      "- impressions - был ли показ\r\n",
      "- clicks - был ли клик\r\n",
      "\r\n",
      "Для Домашней работы 1, колонки: oaid_hash, banner_id0, banner_id1, rate0, rate1, g0, g1, coeff_sum0, coeff_sum1 использовать не нужно! Они будут использоваться в последующих Домашних работах.\r\n",
      "\r\n",
      "## Вопросы\r\n",
      "Все вопросы просьба задавать в чат, чтобы другие студенты могли найти ответы на схожие вопросы.\r\n"
     ]
    }
   ],
   "source": [
    "!cat ../../task_1_recsys/README.md"
   ]
  },
  {
   "cell_type": "markdown",
   "id": "regional-fundamental",
   "metadata": {},
   "source": [
    "# Read the data"
   ]
  },
  {
   "cell_type": "code",
   "execution_count": 3,
   "id": "balanced-flashing",
   "metadata": {},
   "outputs": [],
   "source": [
    "import pandas as pd\n",
    "import numpy as np\n",
    "import matplotlib.pyplot as plt\n",
    "import seaborn as sns"
   ]
  },
  {
   "cell_type": "code",
   "execution_count": 4,
   "id": "cutting-operator",
   "metadata": {},
   "outputs": [],
   "source": [
    "# unnecessary columns for this task\n",
    "\n",
    "task_quote = r'oaid_hash, banner_id0, banner_id1, rate0, rate1, g0, g1, coeff_sum0, coeff_sum1'\n",
    "cols_for_removal = list(map(str,task_quote.replace(',', '').split()))"
   ]
  },
  {
   "cell_type": "code",
   "execution_count": 5,
   "id": "clinical-shareware",
   "metadata": {},
   "outputs": [],
   "source": [
    "from functools import wraps\n",
    "from time import time\n",
    "\n",
    "def logger(func):\n",
    "    \"\"\"\\\n",
    "    Decorator for timing and logging \n",
    "    Pandas data conversion pipelines\"\"\"\n",
    "    @wraps(func)\n",
    "    def inner(df, *a, **kwa):\n",
    "        shape_before = df.shape\n",
    "        ts = time()\n",
    "        result = func(df, *a, **kwa)\n",
    "        te = time()\n",
    "        print(f'{func.__name__} took {te-ts:2.4f} sec')\n",
    "        print(f'    shape {shape_before} -> {result.shape}')\n",
    "        return result\n",
    "    return inner"
   ]
  },
  {
   "cell_type": "code",
   "execution_count": 6,
   "id": "removable-leonard",
   "metadata": {},
   "outputs": [],
   "source": [
    "def load_data(path='./data-001.csv', *a, **kwa):\n",
    "    return pd.read_csv(path, *a, **kwa)\n",
    "\n",
    "@logger\n",
    "def start_pipeline(df):\n",
    "    return df.copy(deep=True)\n",
    "\n",
    "@logger\n",
    "def remove_cols_for_removal(df):\n",
    "    return df.drop(cols_for_removal, axis=1)\n",
    "\n",
    "def print_unique_vals(dataf):\n",
    "    for col in dataf.columns:\n",
    "        if col != 'date_time':\n",
    "            print(f'{col}: {len(dataf[col].unique())}')"
   ]
  },
  {
   "cell_type": "code",
   "execution_count": 7,
   "id": "given-revolution",
   "metadata": {},
   "outputs": [
    {
     "name": "stdout",
     "output_type": "stream",
     "text": [
      "remove_cols_for_removal took 0.2696 sec\n",
      "    shape (15821472, 17) -> (15821472, 8)\n",
      "CPU times: user 18.5 s, sys: 1.81 s, total: 20.3 s\n",
      "Wall time: 23 s\n"
     ]
    }
   ],
   "source": [
    "%%time\n",
    "\n",
    "raw_data = (\n",
    "#     load_data(nrows=100)\n",
    "#     load_data(nrows=10_000)\n",
    "    load_data(nrows=None)\n",
    "    .pipe(remove_cols_for_removal)\n",
    ")"
   ]
  },
  {
   "cell_type": "code",
   "execution_count": 8,
   "id": "practical-question",
   "metadata": {},
   "outputs": [
    {
     "data": {
      "text/plain": [
       "date_time          object\n",
       "zone_id             int64\n",
       "banner_id           int64\n",
       "campaign_clicks     int64\n",
       "os_id               int64\n",
       "country_id          int64\n",
       "impressions         int64\n",
       "clicks              int64\n",
       "dtype: object"
      ]
     },
     "execution_count": 8,
     "metadata": {},
     "output_type": "execute_result"
    }
   ],
   "source": [
    "raw_data.dtypes"
   ]
  },
  {
   "cell_type": "markdown",
   "id": "residential-shade",
   "metadata": {},
   "source": [
    "Let's first convert data to more appropriate data types. Namely:\n",
    "\n",
    "    - date_time: `pd.to_datetime()`\n",
    "    - zone_id, banner_id, campaign_clicks, os_id, country_id: int16\n",
    "    - impressions: bool\n",
    "    - clicks: bool"
   ]
  },
  {
   "cell_type": "code",
   "execution_count": 9,
   "id": "possible-chest",
   "metadata": {},
   "outputs": [],
   "source": [
    "@logger\n",
    "def manual_dtypes(df):\n",
    "    df['date_time'] = pd.to_datetime(df['date_time'])\n",
    "    \n",
    "    bool_cols = ['clicks', 'impressions']\n",
    "    for col in bool_cols:\n",
    "        df[col] = df[col].astype(bool)\n",
    "    \n",
    "    int16_cols = ['zone_id','banner_id','campaign_clicks','os_id','country_id']\n",
    "    for col in int16_cols:\n",
    "        df[col] = df[col].astype(np.int16)\n",
    "    \n",
    "    return df"
   ]
  },
  {
   "cell_type": "code",
   "execution_count": 10,
   "id": "extended-review",
   "metadata": {},
   "outputs": [],
   "source": [
    "@logger\n",
    "def drop_impressions(df):\n",
    "    return df.drop('impressions', axis=1)"
   ]
  },
  {
   "cell_type": "code",
   "execution_count": 11,
   "id": "enhanced-chancellor",
   "metadata": {},
   "outputs": [
    {
     "name": "stdout",
     "output_type": "stream",
     "text": [
      "start_pipeline took 0.2384 sec\n",
      "    shape (15821472, 8) -> (15821472, 8)\n",
      "manual_dtypes took 2.1864 sec\n",
      "    shape (15821472, 8) -> (15821472, 8)\n",
      "drop_impressions took 0.0817 sec\n",
      "    shape (15821472, 8) -> (15821472, 7)\n"
     ]
    }
   ],
   "source": [
    "df = (\n",
    "    raw_data\n",
    "    .pipe(start_pipeline)\n",
    "    .pipe(manual_dtypes)\n",
    "    .pipe(drop_impressions)\n",
    ")"
   ]
  },
  {
   "cell_type": "code",
   "execution_count": 12,
   "id": "clinical-paint",
   "metadata": {},
   "outputs": [
    {
     "name": "stdout",
     "output_type": "stream",
     "text": [
      "zone_id: 3444\n",
      "banner_id: 1633\n",
      "campaign_clicks: 822\n",
      "os_id: 11\n",
      "country_id: 17\n",
      "clicks: 2\n"
     ]
    }
   ],
   "source": [
    "# see that our choice of data type was justified\n",
    "print_unique_vals(df)"
   ]
  },
  {
   "cell_type": "markdown",
   "id": "after-royalty",
   "metadata": {},
   "source": [
    "- date_time - время показа рекламы\n",
    "- zone_id - id зоны, где зона - место на сайте для размещения рекламы\n",
    "- banner_id - id баннера\n",
    "- campaign_clicks - общее количество показов данной кампании (которой соотвествует баннер) данному юзеру, произошедшие до текущего показа\n",
    "- os_id - id операционной системы\n",
    "- country_id - id страны\n",
    "- clicks - был ли клик"
   ]
  },
  {
   "cell_type": "markdown",
   "id": "intense-publisher",
   "metadata": {},
   "source": [
    "Let's split features by user and banner ones"
   ]
  },
  {
   "cell_type": "code",
   "execution_count": 13,
   "id": "interpreted-maria",
   "metadata": {},
   "outputs": [],
   "source": [
    "user_features = ['os_id','country_id','campaign_clicks']\n",
    "banner_features = ['banner_id','zone_id']"
   ]
  },
  {
   "cell_type": "markdown",
   "id": "protected-point",
   "metadata": {},
   "source": [
    "Let's add some trivial features with the datetime\n",
    "\n",
    "Since we don't know the local timezone, we'll use day and month features only"
   ]
  },
  {
   "cell_type": "code",
   "execution_count": 14,
   "id": "ethical-reader",
   "metadata": {},
   "outputs": [],
   "source": [
    "@logger\n",
    "def add_datetime_features(df):\n",
    "    props = ['dayofweek',\n",
    "             'week',  # eight weeks\n",
    "             'month', # only two months in dataset\n",
    "            ]\n",
    "    \n",
    "    dt_object = df['date_time'].dt\n",
    "    for prop in props:\n",
    "        df[prop] = getattr(dt_object, prop).astype(np.int16)\n",
    "    \n",
    "    df['is_weekend'] = dt_object.weekday > 5\n",
    "    return df"
   ]
  },
  {
   "cell_type": "code",
   "execution_count": 15,
   "id": "cardiac-notification",
   "metadata": {},
   "outputs": [
    {
     "name": "stdout",
     "output_type": "stream",
     "text": [
      "start_pipeline took 0.2420 sec\n",
      "    shape (15821472, 8) -> (15821472, 8)\n",
      "manual_dtypes took 1.8547 sec\n",
      "    shape (15821472, 8) -> (15821472, 8)\n",
      "drop_impressions took 0.0801 sec\n",
      "    shape (15821472, 8) -> (15821472, 7)\n"
     ]
    },
    {
     "name": "stderr",
     "output_type": "stream",
     "text": [
      "/tmp/ipykernel_1563/3024347120.py:10: FutureWarning: Series.dt.weekofyear and Series.dt.week have been deprecated.  Please use Series.dt.isocalendar().week instead.\n",
      "  df[prop] = getattr(dt_object, prop).astype(np.int16)\n"
     ]
    },
    {
     "name": "stdout",
     "output_type": "stream",
     "text": [
      "add_datetime_features took 4.8468 sec\n",
      "    shape (15821472, 7) -> (15821472, 11)\n",
      "CPU times: user 7.04 s, sys: 159 ms, total: 7.2 s\n",
      "Wall time: 7.16 s\n"
     ]
    }
   ],
   "source": [
    "%%time\n",
    "\n",
    "df = (\n",
    "    raw_data\n",
    "    .pipe(start_pipeline)\n",
    "    .pipe(manual_dtypes)\n",
    "    .pipe(drop_impressions)\n",
    "    .pipe(add_datetime_features)\n",
    "    .drop('date_time', axis=1)\n",
    ")"
   ]
  },
  {
   "cell_type": "markdown",
   "id": "military-bloom",
   "metadata": {},
   "source": [
    "Let's calculate how much variables we'll have once we OHE the categorical features"
   ]
  },
  {
   "cell_type": "code",
   "execution_count": 16,
   "id": "organizational-white",
   "metadata": {},
   "outputs": [
    {
     "name": "stdout",
     "output_type": "stream",
     "text": [
      "zone_id: 3444\n",
      "banner_id: 1633\n",
      "campaign_clicks: 822\n",
      "os_id: 11\n",
      "country_id: 17\n",
      "clicks: 2\n",
      "dayofweek: 7\n",
      "week: 3\n",
      "month: 2\n",
      "is_weekend: 2\n"
     ]
    }
   ],
   "source": [
    "print_unique_vals(df)"
   ]
  },
  {
   "cell_type": "code",
   "execution_count": 17,
   "id": "single-class",
   "metadata": {},
   "outputs": [
    {
     "data": {
      "text/plain": [
       "(15821472, 10)"
      ]
     },
     "execution_count": 17,
     "metadata": {},
     "output_type": "execute_result"
    }
   ],
   "source": [
    "df.shape"
   ]
  },
  {
   "cell_type": "markdown",
   "id": "threaded-reality",
   "metadata": {},
   "source": [
    "It seems that, given the dataset size, OHE of all the features would be reasonable. However, the output would be now a sparse matrix, since it's enormous in size."
   ]
  },
  {
   "cell_type": "code",
   "execution_count": 18,
   "id": "further-catalyst",
   "metadata": {},
   "outputs": [],
   "source": [
    "from sklearn.preprocessing import OneHotEncoder\n",
    "\n",
    "def one_hot_encode(df):\n",
    "    enc = OneHotEncoder(handle_unknown='ignore', drop='if_binary')\n",
    "    X = enc.fit_transform(df)\n",
    "    return X, enc\n"
   ]
  },
  {
   "cell_type": "code",
   "execution_count": 19,
   "id": "passive-pregnancy",
   "metadata": {},
   "outputs": [
    {
     "name": "stdout",
     "output_type": "stream",
     "text": [
      "start_pipeline took 0.2406 sec\n",
      "    shape (15821472, 8) -> (15821472, 8)\n",
      "manual_dtypes took 1.8444 sec\n",
      "    shape (15821472, 8) -> (15821472, 8)\n",
      "drop_impressions took 0.0804 sec\n",
      "    shape (15821472, 8) -> (15821472, 7)\n"
     ]
    },
    {
     "name": "stderr",
     "output_type": "stream",
     "text": [
      "/tmp/ipykernel_1563/3024347120.py:10: FutureWarning: Series.dt.weekofyear and Series.dt.week have been deprecated.  Please use Series.dt.isocalendar().week instead.\n",
      "  df[prop] = getattr(dt_object, prop).astype(np.int16)\n"
     ]
    },
    {
     "name": "stdout",
     "output_type": "stream",
     "text": [
      "add_datetime_features took 4.8410 sec\n",
      "    shape (15821472, 7) -> (15821472, 11)\n",
      "CPU times: user 22.6 s, sys: 585 ms, total: 23.2 s\n",
      "Wall time: 23.1 s\n"
     ]
    }
   ],
   "source": [
    "%%time\n",
    "\n",
    "tmp = \\\n",
    "(\n",
    "    raw_data\n",
    "    .pipe(start_pipeline)\n",
    "    .pipe(manual_dtypes)\n",
    "    .pipe(drop_impressions)\n",
    "    .pipe(add_datetime_features)\n",
    "    .drop('date_time', axis=1)\n",
    ")\n",
    "\n",
    "X, enc = one_hot_encode(tmp)\n",
    "del tmp"
   ]
  },
  {
   "cell_type": "code",
   "execution_count": 20,
   "id": "literary-british",
   "metadata": {},
   "outputs": [
    {
     "data": {
      "text/plain": [
       "(15821472, 5940)"
      ]
     },
     "execution_count": 20,
     "metadata": {},
     "output_type": "execute_result"
    }
   ],
   "source": [
    "X.shape"
   ]
  },
  {
   "cell_type": "markdown",
   "id": "progressive-guyana",
   "metadata": {},
   "source": [
    "Let's also produce interaction features: namely, the multiplier of these ones:\n",
    "\n",
    "```python\n",
    "user_features = ['os_id','country_id','campaign_clicks','dayofweek','week','month']\n",
    "banner_features = ['banner_id','zone_id']\n",
    "```"
   ]
  },
  {
   "cell_type": "code",
   "execution_count": 21,
   "id": "photographic-finding",
   "metadata": {},
   "outputs": [
    {
     "name": "stdout",
     "output_type": "stream",
     "text": [
      "n_user_features=850, n_banner_features=5077, n_interactions=4315450\n"
     ]
    }
   ],
   "source": [
    "n_user_features = sum([1 for f in enc.get_feature_names_out() if '_'.join(f.split('_')[:-1]) in user_features])\n",
    "n_banner_features = sum([1 for f in enc.get_feature_names_out() if '_'.join(f.split('_')[:-1]) in banner_features])\n",
    "\n",
    "n_interactions = n_user_features*n_banner_features\n",
    "print(f'{n_user_features=}, {n_banner_features=}, {n_interactions=}')"
   ]
  },
  {
   "cell_type": "markdown",
   "id": "otherwise-grill",
   "metadata": {},
   "source": [
    "So total `850*5077 = 4315450` features might get added to the dataset, which way to much.\n",
    "\n",
    "Let's for now exclude the `campaign_clicks` with ~800 possible values from the user_features, and indeed add the interaction features to the dataset"
   ]
  },
  {
   "cell_type": "code",
   "execution_count": 22,
   "id": "freelance-breed",
   "metadata": {},
   "outputs": [
    {
     "name": "stdout",
     "output_type": "stream",
     "text": [
      "n_user_features=28, n_banner_features=5077, n_interactions=142156\n"
     ]
    }
   ],
   "source": [
    "n_user_features = sum([1 for f in enc.get_feature_names_out() \n",
    "                       if '_'.join(f.split('_')[:-1]) in \n",
    "                       [name for name in user_features if name != 'campaign_clicks']])\n",
    "n_banner_features = sum([1 for f in enc.get_feature_names_out() \n",
    "                         if '_'.join(f.split('_')[:-1]) in banner_features])\n",
    "\n",
    "n_interactions = n_user_features*n_banner_features\n",
    "print(f'{n_user_features=}, {n_banner_features=}, {n_interactions=}')"
   ]
  },
  {
   "cell_type": "code",
   "execution_count": 182,
   "id": "fundamental-enlargement",
   "metadata": {},
   "outputs": [],
   "source": [
    "user_features_full = \\\n",
    "[f for f in enc.get_feature_names_out() \n",
    " if '_'.join(f.split('_')[:-1]) in \n",
    " [name for name in user_features if name != 'campaign_clicks']]\n",
    "\n",
    "banner_features_full = \\\n",
    "[f for f in enc.get_feature_names_out() \n",
    " if '_'.join(f.split('_')[:-1]) in banner_features]"
   ]
  },
  {
   "cell_type": "code",
   "execution_count": 183,
   "id": "ultimate-natural",
   "metadata": {},
   "outputs": [],
   "source": [
    "groupA = user_features_full\n",
    "groupB = banner_features_full\n",
    "\n",
    "names = list(enc.get_feature_names_out())\n",
    "\n",
    "iA = np.array([names[i] in groupA for i in range(X.shape[1])])\n",
    "iB = np.array([names[i] in groupB for i in range(X.shape[1])])\n",
    "iR = np.ones(X.shape[1]).astype(bool) ^ (iA | iB)\n",
    "\n",
    "xA = X[:,iA]\n",
    "xB = X[:,iB]\n",
    "xR = X[:, iR]\n",
    "\n",
    "xA_names = np.array(names)[iA]\n",
    "xB_names = np.array(names)[iB]\n",
    "xR_names = np.array(names)[iR]"
   ]
  },
  {
   "cell_type": "code",
   "execution_count": 184,
   "id": "infectious-avatar",
   "metadata": {},
   "outputs": [],
   "source": [
    "xA = X[:,iA]\n",
    "xB = X[:,iB]\n",
    "xR = X[:, iR]"
   ]
  },
  {
   "cell_type": "code",
   "execution_count": 185,
   "id": "anonymous-excitement",
   "metadata": {},
   "outputs": [
    {
     "data": {
      "text/plain": [
       "((15821472, 28), (15821472, 5077), (15821472, 835))"
      ]
     },
     "execution_count": 185,
     "metadata": {},
     "output_type": "execute_result"
    }
   ],
   "source": [
    "xA.shape, xB.shape, xR.shape"
   ]
  },
  {
   "cell_type": "code",
   "execution_count": 158,
   "id": "composed-blackberry",
   "metadata": {},
   "outputs": [],
   "source": [
    "from scipy import sparse"
   ]
  },
  {
   "cell_type": "code",
   "execution_count": 189,
   "id": "continuous-transaction",
   "metadata": {},
   "outputs": [
    {
     "name": "stdout",
     "output_type": "stream",
     "text": [
      "0\n",
      "1\n"
     ]
    },
    {
     "ename": "KeyboardInterrupt",
     "evalue": "",
     "output_type": "error",
     "traceback": [
      "\u001b[0;31m---------------------------------------------------------------------------\u001b[0m",
      "\u001b[0;31mKeyboardInterrupt\u001b[0m                         Traceback (most recent call last)",
      "\u001b[0;32m<timed exec>\u001b[0m in \u001b[0;36m<module>\u001b[0;34m\u001b[0m\n",
      "\u001b[0;32m~/apps/anaconda3/envs/py39/lib/python3.9/site-packages/scipy/sparse/compressed.py\u001b[0m in \u001b[0;36mmultiply\u001b[0;34m(self, other)\u001b[0m\n\u001b[1;32m    374\u001b[0m             \u001b[0;32mif\u001b[0m \u001b[0mself\u001b[0m\u001b[0;34m.\u001b[0m\u001b[0mshape\u001b[0m \u001b[0;34m==\u001b[0m \u001b[0mother\u001b[0m\u001b[0;34m.\u001b[0m\u001b[0mshape\u001b[0m\u001b[0;34m:\u001b[0m\u001b[0;34m\u001b[0m\u001b[0;34m\u001b[0m\u001b[0m\n\u001b[1;32m    375\u001b[0m                 \u001b[0mother\u001b[0m \u001b[0;34m=\u001b[0m \u001b[0mself\u001b[0m\u001b[0;34m.\u001b[0m\u001b[0m__class__\u001b[0m\u001b[0;34m(\u001b[0m\u001b[0mother\u001b[0m\u001b[0;34m)\u001b[0m\u001b[0;34m\u001b[0m\u001b[0;34m\u001b[0m\u001b[0m\n\u001b[0;32m--> 376\u001b[0;31m                 \u001b[0;32mreturn\u001b[0m \u001b[0mself\u001b[0m\u001b[0;34m.\u001b[0m\u001b[0m_binopt\u001b[0m\u001b[0;34m(\u001b[0m\u001b[0mother\u001b[0m\u001b[0;34m,\u001b[0m \u001b[0;34m'_elmul_'\u001b[0m\u001b[0;34m)\u001b[0m\u001b[0;34m\u001b[0m\u001b[0;34m\u001b[0m\u001b[0m\n\u001b[0m\u001b[1;32m    377\u001b[0m             \u001b[0;31m# Single element.\u001b[0m\u001b[0;34m\u001b[0m\u001b[0;34m\u001b[0m\u001b[0m\n\u001b[1;32m    378\u001b[0m             \u001b[0;32melif\u001b[0m \u001b[0mother\u001b[0m\u001b[0;34m.\u001b[0m\u001b[0mshape\u001b[0m \u001b[0;34m==\u001b[0m \u001b[0;34m(\u001b[0m\u001b[0;36m1\u001b[0m\u001b[0;34m,\u001b[0m \u001b[0;36m1\u001b[0m\u001b[0;34m)\u001b[0m\u001b[0;34m:\u001b[0m\u001b[0;34m\u001b[0m\u001b[0;34m\u001b[0m\u001b[0m\n",
      "\u001b[0;32m~/apps/anaconda3/envs/py39/lib/python3.9/site-packages/scipy/sparse/compressed.py\u001b[0m in \u001b[0;36m_binopt\u001b[0;34m(self, other, op)\u001b[0m\n\u001b[1;32m   1236\u001b[0m             \u001b[0mdata\u001b[0m \u001b[0;34m=\u001b[0m \u001b[0mnp\u001b[0m\u001b[0;34m.\u001b[0m\u001b[0mempty\u001b[0m\u001b[0;34m(\u001b[0m\u001b[0mmaxnnz\u001b[0m\u001b[0;34m,\u001b[0m \u001b[0mdtype\u001b[0m\u001b[0;34m=\u001b[0m\u001b[0mupcast\u001b[0m\u001b[0;34m(\u001b[0m\u001b[0mself\u001b[0m\u001b[0;34m.\u001b[0m\u001b[0mdtype\u001b[0m\u001b[0;34m,\u001b[0m \u001b[0mother\u001b[0m\u001b[0;34m.\u001b[0m\u001b[0mdtype\u001b[0m\u001b[0;34m)\u001b[0m\u001b[0;34m)\u001b[0m\u001b[0;34m\u001b[0m\u001b[0;34m\u001b[0m\u001b[0m\n\u001b[1;32m   1237\u001b[0m \u001b[0;34m\u001b[0m\u001b[0m\n\u001b[0;32m-> 1238\u001b[0;31m         fn(self.shape[0], self.shape[1],\n\u001b[0m\u001b[1;32m   1239\u001b[0m            \u001b[0mnp\u001b[0m\u001b[0;34m.\u001b[0m\u001b[0masarray\u001b[0m\u001b[0;34m(\u001b[0m\u001b[0mself\u001b[0m\u001b[0;34m.\u001b[0m\u001b[0mindptr\u001b[0m\u001b[0;34m,\u001b[0m \u001b[0mdtype\u001b[0m\u001b[0;34m=\u001b[0m\u001b[0midx_dtype\u001b[0m\u001b[0;34m)\u001b[0m\u001b[0;34m,\u001b[0m\u001b[0;34m\u001b[0m\u001b[0;34m\u001b[0m\u001b[0m\n\u001b[1;32m   1240\u001b[0m            \u001b[0mnp\u001b[0m\u001b[0;34m.\u001b[0m\u001b[0masarray\u001b[0m\u001b[0;34m(\u001b[0m\u001b[0mself\u001b[0m\u001b[0;34m.\u001b[0m\u001b[0mindices\u001b[0m\u001b[0;34m,\u001b[0m \u001b[0mdtype\u001b[0m\u001b[0;34m=\u001b[0m\u001b[0midx_dtype\u001b[0m\u001b[0;34m)\u001b[0m\u001b[0;34m,\u001b[0m\u001b[0;34m\u001b[0m\u001b[0;34m\u001b[0m\u001b[0m\n",
      "\u001b[0;31mKeyboardInterrupt\u001b[0m: "
     ]
    }
   ],
   "source": [
    "%%time\n",
    "rv = []\n",
    "xAB_names = []\n",
    "for nA, row in zip(xA_names, xA.T):\n",
    "    for nB, col in zip(xB_names, xB.T):\n",
    "        xAB_names.append(f'{nA}_x_{nB}')\n",
    "        rv.append(row.multiply(col).T)\n",
    "print('--')\n",
    "xAB = sparse.hstack(rv)"
   ]
  },
  {
   "cell_type": "code",
   "execution_count": 178,
   "id": "clinical-stylus",
   "metadata": {},
   "outputs": [],
   "source": [
    "np.unique()"
   ]
  },
  {
   "cell_type": "code",
   "execution_count": null,
   "id": "changing-subsection",
   "metadata": {},
   "outputs": [],
   "source": []
  },
  {
   "cell_type": "code",
   "execution_count": null,
   "id": "stone-chemistry",
   "metadata": {},
   "outputs": [],
   "source": []
  },
  {
   "cell_type": "code",
   "execution_count": null,
   "id": "threatened-upset",
   "metadata": {},
   "outputs": [],
   "source": []
  },
  {
   "cell_type": "code",
   "execution_count": null,
   "id": "reported-calculation",
   "metadata": {},
   "outputs": [],
   "source": []
  },
  {
   "cell_type": "code",
   "execution_count": null,
   "id": "pregnant-financing",
   "metadata": {},
   "outputs": [],
   "source": []
  },
  {
   "cell_type": "code",
   "execution_count": null,
   "id": "equal-introduction",
   "metadata": {},
   "outputs": [],
   "source": []
  },
  {
   "cell_type": "code",
   "execution_count": 284,
   "id": "filled-tennessee",
   "metadata": {},
   "outputs": [
    {
     "ename": "ValueError",
     "evalue": "blocks must be 2-D",
     "output_type": "error",
     "traceback": [
      "\u001b[0;31m---------------------------------------------------------------------------\u001b[0m",
      "\u001b[0;31mValueError\u001b[0m                                Traceback (most recent call last)",
      "\u001b[0;32m/tmp/ipykernel_7662/1869475879.py\u001b[0m in \u001b[0;36m<module>\u001b[0;34m\u001b[0m\n\u001b[0;32m----> 1\u001b[0;31m \u001b[0msparse\u001b[0m\u001b[0;34m.\u001b[0m\u001b[0mhstack\u001b[0m\u001b[0;34m(\u001b[0m\u001b[0mX_int\u001b[0m\u001b[0;34m)\u001b[0m\u001b[0;34m\u001b[0m\u001b[0;34m\u001b[0m\u001b[0m\n\u001b[0m",
      "\u001b[0;32m~/apps/anaconda3/envs/py39/lib/python3.9/site-packages/scipy/sparse/construct.py\u001b[0m in \u001b[0;36mhstack\u001b[0;34m(blocks, format, dtype)\u001b[0m\n\u001b[1;32m    465\u001b[0m \u001b[0;34m\u001b[0m\u001b[0m\n\u001b[1;32m    466\u001b[0m     \"\"\"\n\u001b[0;32m--> 467\u001b[0;31m     \u001b[0;32mreturn\u001b[0m \u001b[0mbmat\u001b[0m\u001b[0;34m(\u001b[0m\u001b[0;34m[\u001b[0m\u001b[0mblocks\u001b[0m\u001b[0;34m]\u001b[0m\u001b[0;34m,\u001b[0m \u001b[0mformat\u001b[0m\u001b[0;34m=\u001b[0m\u001b[0mformat\u001b[0m\u001b[0;34m,\u001b[0m \u001b[0mdtype\u001b[0m\u001b[0;34m=\u001b[0m\u001b[0mdtype\u001b[0m\u001b[0;34m)\u001b[0m\u001b[0;34m\u001b[0m\u001b[0;34m\u001b[0m\u001b[0m\n\u001b[0m\u001b[1;32m    468\u001b[0m \u001b[0;34m\u001b[0m\u001b[0m\n\u001b[1;32m    469\u001b[0m \u001b[0;34m\u001b[0m\u001b[0m\n",
      "\u001b[0;32m~/apps/anaconda3/envs/py39/lib/python3.9/site-packages/scipy/sparse/construct.py\u001b[0m in \u001b[0;36mbmat\u001b[0;34m(blocks, format, dtype)\u001b[0m\n\u001b[1;32m    548\u001b[0m \u001b[0;34m\u001b[0m\u001b[0m\n\u001b[1;32m    549\u001b[0m     \u001b[0;32mif\u001b[0m \u001b[0mblocks\u001b[0m\u001b[0;34m.\u001b[0m\u001b[0mndim\u001b[0m \u001b[0;34m!=\u001b[0m \u001b[0;36m2\u001b[0m\u001b[0;34m:\u001b[0m\u001b[0;34m\u001b[0m\u001b[0;34m\u001b[0m\u001b[0m\n\u001b[0;32m--> 550\u001b[0;31m         \u001b[0;32mraise\u001b[0m \u001b[0mValueError\u001b[0m\u001b[0;34m(\u001b[0m\u001b[0;34m'blocks must be 2-D'\u001b[0m\u001b[0;34m)\u001b[0m\u001b[0;34m\u001b[0m\u001b[0;34m\u001b[0m\u001b[0m\n\u001b[0m\u001b[1;32m    551\u001b[0m \u001b[0;34m\u001b[0m\u001b[0m\n\u001b[1;32m    552\u001b[0m     \u001b[0mM\u001b[0m\u001b[0;34m,\u001b[0m\u001b[0mN\u001b[0m \u001b[0;34m=\u001b[0m \u001b[0mblocks\u001b[0m\u001b[0;34m.\u001b[0m\u001b[0mshape\u001b[0m\u001b[0;34m\u001b[0m\u001b[0;34m\u001b[0m\u001b[0m\n",
      "\u001b[0;31mValueError\u001b[0m: blocks must be 2-D"
     ]
    }
   ],
   "source": [
    "sparse.hstack(X_int)"
   ]
  },
  {
   "cell_type": "code",
   "execution_count": 280,
   "id": "blond-perception",
   "metadata": {},
   "outputs": [
    {
     "data": {
      "text/plain": [
       "(1, 1000)"
      ]
     },
     "execution_count": 280,
     "metadata": {},
     "output_type": "execute_result"
    }
   ],
   "source": [
    "X_int[0].shape"
   ]
  }
 ],
 "metadata": {
  "kernelspec": {
   "display_name": "py39",
   "language": "python",
   "name": "py39"
  },
  "language_info": {
   "codemirror_mode": {
    "name": "ipython",
    "version": 3
   },
   "file_extension": ".py",
   "mimetype": "text/x-python",
   "name": "python",
   "nbconvert_exporter": "python",
   "pygments_lexer": "ipython3",
   "version": "3.9.7"
  }
 },
 "nbformat": 4,
 "nbformat_minor": 5
}
